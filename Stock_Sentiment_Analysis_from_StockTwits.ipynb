{
  "cells": [
    {
      "cell_type": "markdown",
      "metadata": {
        "id": "nIow3bCV5pXc"
      },
      "source": [
        "# Analyzing Stock Sentiment from Twits\n",
        "\n",
        "\n",
        "### Load Packages"
      ]
    },
    {
      "cell_type": "code",
      "execution_count": 1,
      "metadata": {
        "id": "NGJ5ZuDR5pXd"
      },
      "outputs": [],
      "source": [
        "import json\n",
        "import nltk\n",
        "import os\n",
        "import random\n",
        "import re\n",
        "import torch\n",
        "\n",
        "from torch import nn, optim\n",
        "import torch.nn.functional as F"
      ]
    },
    {
      "cell_type": "markdown",
      "metadata": {
        "id": "8XmUJQZY5pXe"
      },
      "source": [
        "## Introduction\n",
        "When deciding the value of a company, it's important to follow the news. For example, a product recall or natural disaster in a company's product chain. You want to be able to turn this information into a signal. Currently, the best tool for the job is a Neural Network.\n",
        "\n",
        "For this project, we'll use posts from the social media site [StockTwits](https://en.wikipedia.org/wiki/StockTwits). The community on StockTwits is full of investors, traders, and entrepreneurs. Each message posted is called a Twit. This is similar to Twitter's version of a post, called a Tweet. You'll build a model around these twits that generate a sentiment score.\n",
        "\n",
        "We've collected a bunch of twits, then hand labeled the sentiment of each. To capture the degree of sentiment, we'll use a five-point scale: very negative, negative, neutral, positive, very positive. Each twit is labeled -2 to 2 in steps of 1, from very negative to very positive respectively. You'll build a sentiment analysis model that will learn to assign sentiment to twits on its own, using this labeled data.\n",
        "\n",
        "The first thing we should to do, is load the data.\n",
        "\n",
        "## Import Twits\n",
        "### Load Twits Data\n",
        "This JSON file contains a list of objects for each twit in the `'data'` field:\n",
        "\n",
        "```\n",
        "{'data':\n",
        "  {'message_body': 'Neutral twit body text here',\n",
        "   'sentiment': 0},\n",
        "  {'message_body': 'Happy twit body text here',\n",
        "   'sentiment': 1},\n",
        "   ...\n",
        "}\n",
        "```\n",
        "\n",
        "The fields represent the following:\n",
        "\n",
        "* `'message_body'`: The text of the twit.\n",
        "* `'sentiment'`: Sentiment score for the twit, ranges from -2 to 2 in steps of 1, with 0 being neutral.\n",
        "\n",
        "\n",
        "To see what the data look like by printing the first 10 twits from the list."
      ]
    },
    {
      "cell_type": "markdown",
      "source": [
        "## Get Data"
      ],
      "metadata": {
        "id": "DzPDIteq6RUv"
      }
    },
    {
      "cell_type": "code",
      "source": [
        "import json\n",
        "import pickle\n",
        "import urllib.request\n",
        "\n",
        "def save_file_if_missing(filename):\n",
        "  if not os.path.exists(filename):\n",
        "    response = load_file_from_external_source(filename)\n",
        "    with open(filename, 'wb') as fp:\n",
        "      fp.write(response.read())\n",
        "\n",
        "def load_file_from_external_source(filename):\n",
        "  if not os.path.exists(filename):\n",
        "    URL = f'https://vkontech.com/post-sentiment-analysis/{filename}'\n",
        "    request = urllib.request.Request(URL)\n",
        "    # These headers are required as a workaround to download public files from Wordpress\n",
        "    request.add_header('User-Agent', 'Mozilla/5.0 (Macintosh; Intel Mac OS X 10_10_1) AppleWebKit/537.36 (KHTML, like Gecko) Chrome/39.0.2171.95 Safari/537.36')\n",
        "    resp = urllib.request.urlopen(request)\n",
        "    return resp\n",
        "\n",
        "def save_object_to_file(filename, content):\n",
        "  with open(filename, 'wb') as fp:\n",
        "      pickle.dump(content, fp)\n",
        "\n",
        "def load_object_from_file(filename):\n",
        "  with open(filename, 'rb') as fp:\n",
        "    return pickle.load(fp)\n"
      ],
      "metadata": {
        "id": "RgaRIow86Qgo"
      },
      "execution_count": 2,
      "outputs": []
    },
    {
      "cell_type": "code",
      "source": [
        "twits_filename = 'twits.json'\n",
        "if not os.path.exists(twits_filename):\n",
        "  response = load_file_from_external_source(twits_filename)\n",
        "  twits = json.load(response)\n",
        "  save_object_to_file(twits_filename, twits)\n",
        "else:\n",
        "  twits = load_object_from_file(twits_filename)\n",
        "\n",
        "twits['data'][:5]"
      ],
      "metadata": {
        "colab": {
          "base_uri": "https://localhost:8080/"
        },
        "id": "V-k68Mav6ZI1",
        "outputId": "58137b19-a3f2-4a01-93c6-45ab8c3f1a82"
      },
      "execution_count": 3,
      "outputs": [
        {
          "output_type": "execute_result",
          "data": {
            "text/plain": [
              "[{'message_body': '$FITB great buy at 26.00...ill wait',\n",
              "  'sentiment': 2,\n",
              "  'timestamp': '2018-07-01T00:00:09Z'},\n",
              " {'message_body': '@StockTwits $MSFT',\n",
              "  'sentiment': 1,\n",
              "  'timestamp': '2018-07-01T00:00:42Z'},\n",
              " {'message_body': '#STAAnalystAlert for $TDG : Jefferies Maintains with a rating of Hold setting target price at USD 350.00. Our own verdict is Buy  http://www.stocktargetadvisor.com/toprating',\n",
              "  'sentiment': 2,\n",
              "  'timestamp': '2018-07-01T00:01:24Z'},\n",
              " {'message_body': '$AMD I heard there’s a guy who knows someone who thinks somebody knows something - on StockTwits.',\n",
              "  'sentiment': 1,\n",
              "  'timestamp': '2018-07-01T00:01:47Z'},\n",
              " {'message_body': '$AMD reveal yourself!',\n",
              "  'sentiment': 0,\n",
              "  'timestamp': '2018-07-01T00:02:13Z'}]"
            ]
          },
          "metadata": {},
          "execution_count": 3
        }
      ]
    },
    {
      "cell_type": "markdown",
      "metadata": {
        "id": "0RtAgaGp5pXf"
      },
      "source": [
        "### Length of Data\n",
        "Now let's look at the number of twits in dataset. Print the number of twits below."
      ]
    },
    {
      "cell_type": "code",
      "execution_count": 4,
      "metadata": {
        "colab": {
          "base_uri": "https://localhost:8080/"
        },
        "id": "tWt0Ty4i5pXf",
        "outputId": "ef647f23-a67e-467d-a3b3-ff1f54e05f9b"
      },
      "outputs": [
        {
          "output_type": "stream",
          "name": "stdout",
          "text": [
            "No. of Twits : 1548010\n"
          ]
        }
      ],
      "source": [
        "\"\"\"print out the number of twits\"\"\"\n",
        "\n",
        "print(\"No. of Twits :\",len(twits['data']))"
      ]
    },
    {
      "cell_type": "markdown",
      "metadata": {
        "id": "0MURDz0x5pXf"
      },
      "source": [
        "### Split Message Body and Sentiment Score"
      ]
    },
    {
      "cell_type": "code",
      "execution_count": 5,
      "metadata": {
        "id": "Egq6wmmq5pXf"
      },
      "outputs": [],
      "source": [
        "messages = [twit['message_body'] for twit in twits['data']]\n",
        "# Since the sentiment scores are discrete, we'll scale the sentiments to 0 to 4 for use in our network\n",
        "sentiments = [twit['sentiment'] + 2 for twit in twits['data']]"
      ]
    },
    {
      "cell_type": "markdown",
      "metadata": {
        "id": "j7gfznlO5pXg"
      },
      "source": [
        "## Preprocessing the Data\n",
        "With our data in hand we need to preprocess our text. These twits are collected by filtering on ticker symbols where these are denoted with a leader $ symbol in the twit itself. For example,\n",
        "\n",
        "`{'message_body': 'RT @google Our annual look at the year in Google blogging (and beyond) http://t.co/sptHOAh8 $GOOG',\n",
        " 'sentiment': 0}`\n",
        "\n",
        "The ticker symbols don't provide information on the sentiment, and they are in every twit, so we should remove them. This twit also has the `@google` username, again not providing sentiment information, so we should also remove it. We also see a URL `http://t.co/sptHOAh8`. Let's remove these too.\n",
        "\n",
        "The easiest way to remove specific words or phrases is with regex using the `re` module. You can sub out specific patterns with a space:\n",
        "\n",
        "```python\n",
        "re.sub(pattern, ' ', text)\n",
        "```\n",
        "This will substitute a space with anywhere the pattern matches in the text. Later when we tokenize the text, we'll split appropriately on those spaces."
      ]
    },
    {
      "cell_type": "markdown",
      "metadata": {
        "id": "Cwwz59Eb5pXg"
      },
      "source": [
        "### Pre-Processing"
      ]
    },
    {
      "cell_type": "code",
      "execution_count": 6,
      "metadata": {
        "colab": {
          "base_uri": "https://localhost:8080/"
        },
        "id": "4r-SVtHr5pXg",
        "outputId": "a7924a74-1b20-4c38-c879-8a0edfdf31b2"
      },
      "outputs": [
        {
          "output_type": "stream",
          "name": "stderr",
          "text": [
            "[nltk_data] Downloading package wordnet to /root/nltk_data...\n"
          ]
        }
      ],
      "source": [
        "nltk.download('wordnet')\n",
        "\n",
        "\n",
        "def preprocess(message):\n",
        "    \"\"\"\n",
        "    This function takes a string as input, then performs these operations:\n",
        "        - lowercase\n",
        "        - remove URLs\n",
        "        - remove ticker symbols\n",
        "        - removes punctuation\n",
        "        - tokenize by splitting the string on whitespace\n",
        "        - removes any single character tokens\n",
        "\n",
        "    Parameters\n",
        "    ----------\n",
        "        message : The text message to be preprocessed.\n",
        "\n",
        "    Returns\n",
        "    -------\n",
        "        tokens: The preprocessed text into tokens.\n",
        "    \"\"\"\n",
        "\n",
        "    # Lowercase the twit message\n",
        "    text = message.lower()\n",
        "\n",
        "    # Replace URLs with a space in the message\n",
        "    text = re.sub(r'https?:\\/\\/.*[\\r\\n]*', ' ', text)\n",
        "\n",
        "    # Replace ticker symbols with a space. The ticker symbols are any stock symbol that starts with $.\n",
        "    text = re.sub(r'[$][A-Za-z][\\S]*', ' ', text)\n",
        "\n",
        "    # Replace StockTwits usernames with a space. The usernames are any word that starts with @.\n",
        "    text = re.sub(r'[@][A-Za-z][\\S]*', ' ', text)\n",
        "\n",
        "    # Replace everything not a letter with a space\n",
        "    text = re.sub(r'[\\W_]+', ' ', text)\n",
        "\n",
        "    # Tokenize by splitting the string on whitespace into a list of words\n",
        "    tokens = text.split()\n",
        "\n",
        "    # Lemmatize words using the WordNetLemmatizer. You can ignore any word that is not longer than one character.\n",
        "    wnl = nltk.stem.WordNetLemmatizer()\n",
        "    tokens = [wnl.lemmatize(token) for token in tokens if len(token) > 1]\n",
        "\n",
        "    return tokens"
      ]
    },
    {
      "cell_type": "markdown",
      "metadata": {
        "id": "u0c9PWhn5pXh"
      },
      "source": [
        "### Preprocess All the Twits\n",
        "Now we can preprocess each of the twits in our dataset. Apply the function `preprocess` to all the twit messages."
      ]
    },
    {
      "cell_type": "code",
      "execution_count": 7,
      "metadata": {
        "id": "8BmiaYHr5pXh"
      },
      "outputs": [],
      "source": [
        "tokenized = [preprocess(twit) for twit in messages]"
      ]
    },
    {
      "cell_type": "markdown",
      "metadata": {
        "id": "fG-UddPP5pXh"
      },
      "source": [
        "### Bag of Words\n",
        "Now with all of our messages tokenized, we want to create a vocabulary and count up how often each word appears in our entire corpus. Use the [`Counter`](https://docs.python.org/3.1/library/collections.html#collections.Counter) function to count up all the tokens."
      ]
    },
    {
      "cell_type": "code",
      "execution_count": 8,
      "metadata": {
        "id": "Gk_v77515pXh"
      },
      "outputs": [],
      "source": [
        "from collections import Counter\n",
        "\n",
        "\n",
        "\"\"\"\n",
        "Create a vocabulary by using Bag of words\n",
        "\"\"\"\n",
        "\n",
        "tokenized_text = ' '.join([' '.join(tokens) for tokens in tokenized])\n",
        "word_counts = Counter(tokenized_text.split())\n",
        "bow = dict(word_counts)"
      ]
    },
    {
      "cell_type": "markdown",
      "metadata": {
        "id": "Yo4HcQW45pXh"
      },
      "source": [
        "### Frequency of Words Appearing in Message\n",
        "With our vocabulary, now we'll remove some of the most common words such as 'the', 'and', 'it', etc. These words don't contribute to identifying sentiment and are really common, resulting in a lot of noise in our input. If we can filter these out, then our network should have an easier time learning.\n",
        "\n",
        "We also want to remove really rare words that show up in a only a few twits. Here you'll want to divide the count of each word by the number of messages. Then remove words that only appear in some small fraction of the messages."
      ]
    },
    {
      "cell_type": "code",
      "execution_count": 9,
      "metadata": {
        "colab": {
          "base_uri": "https://localhost:8080/"
        },
        "id": "jk1U1IAu5pXh",
        "outputId": "427a7483-5743-48f8-ebf1-0ac67aed73bb"
      },
      "outputs": [
        {
          "output_type": "stream",
          "name": "stdout",
          "text": [
            "[('the', 397746), ('to', 378468), ('is', 283819), ('for', 272802), ('on', 241362), ('of', 210842), ('and', 208140), ('in', 204325), ('this', 203000), ('it', 193086), ('39', 190583), ('at', 138104), ('will', 128001), ('up', 120940), ('are', 101203), ('you', 94060), ('that', 89234), ('be', 89017), ('short', 86523), ('10', 84800)]\n"
          ]
        },
        {
          "output_type": "execute_result",
          "data": {
            "text/plain": [
              "121773"
            ]
          },
          "metadata": {},
          "execution_count": 9
        }
      ],
      "source": [
        "\"\"\"\n",
        "Set the following variables:\n",
        "    freqs\n",
        "    low_cutoff\n",
        "    high_cutoff\n",
        "    K_most_common\n",
        "\"\"\"\n",
        "\n",
        "# Dictionart that contains the Frequency of words appearing in messages.\n",
        "# The key is the token and the value is the frequency of that word in the corpus.\n",
        "freqs = {word: count/len(bow) for word, count in bow.items()}\n",
        "\n",
        "# Float that is the frequency cutoff. Drop words with a frequency that is lower or equal to this number.\n",
        "low_cutoff = 0.000001\n",
        "\n",
        "# Integer that is the cut off for most common words. Drop words that are the `high_cutoff` most common words.\n",
        "high_cutoff = 20\n",
        "\n",
        "# The k most common words in the corpus. Use `high_cutoff` as the k.\n",
        "bow = Counter(bow)\n",
        "K_most_common = bow.most_common(high_cutoff)\n",
        "\n",
        "\n",
        "filtered_words = [word for word in freqs if (freqs[word] > low_cutoff and word not in K_most_common)]\n",
        "print(K_most_common)\n",
        "len(filtered_words)"
      ]
    },
    {
      "cell_type": "markdown",
      "metadata": {
        "id": "iQFyivSQ5pXh"
      },
      "source": [
        "### Updating Vocabulary by Removing Filtered Words\n",
        "Let's creat three variables that will help with our vocabulary."
      ]
    },
    {
      "cell_type": "code",
      "execution_count": 10,
      "metadata": {
        "id": "6w-y1Vyk5pXh"
      },
      "outputs": [],
      "source": [
        "\"\"\"\n",
        "Set the following variables:\n",
        "    vocab\n",
        "    id2vocab\n",
        "    filtered\n",
        "\"\"\"\n",
        "from tqdm import tqdm\n",
        "\n",
        "# A dictionary for the `filtered_words`. The key is the word and value is an id that represents the word.\n",
        "vocab ={word: index for index, word in enumerate(filtered_words, 1)}\n",
        "# Reverse of the `vocab` dictionary. The key is word id and value is the word.\n",
        "id2vocab = {ii: word for word, ii in vocab.items()}\n",
        "# tokenized with the words not in `filtered_words` removed.\n",
        "filtered = [[word for word in message if word in vocab] for message in tokenized]"
      ]
    },
    {
      "cell_type": "markdown",
      "metadata": {
        "id": "dfETBbpm5pXh"
      },
      "source": [
        "### Balancing the classes\n",
        "Let's do a few last pre-processing steps. If we look at how our twits are labeled, we'll find that 50% of them are neutral. This means that our network will be 50% accurate just by guessing 0 every single time. To help our network learn appropriately, we'll want to balance our classes.\n",
        "That is, make sure each of our different sentiment scores show up roughly as frequently in the data.\n",
        "\n",
        "What we can do here is go through each of our examples and randomly drop twits with neutral sentiment. What should be the probability we drop these twits if we want to get around 20% neutral twits starting at 50% neutral? We should also take this opportunity to remove messages with length 0."
      ]
    },
    {
      "cell_type": "code",
      "execution_count": 11,
      "metadata": {
        "id": "CTRErPUR5pXh"
      },
      "outputs": [],
      "source": [
        "balanced = {'messages': [], 'sentiments':[]}\n",
        "\n",
        "n_neutral = sum(1 for each in sentiments if each == 2)\n",
        "N_examples = len(sentiments)\n",
        "keep_prob = (N_examples - n_neutral)/4/n_neutral\n",
        "\n",
        "for idx, sentiment in enumerate(sentiments):\n",
        "    message = filtered[idx]\n",
        "    if len(message) == 0:\n",
        "        # skip this message because it has length zero\n",
        "        continue\n",
        "    elif sentiment != 2 or random.random() < keep_prob:\n",
        "        balanced['messages'].append(message)\n",
        "        balanced['sentiments'].append(sentiment)"
      ]
    },
    {
      "cell_type": "markdown",
      "metadata": {
        "id": "rjQSdlEI5pXh"
      },
      "source": [
        "If you did it correctly, you should see the following result"
      ]
    },
    {
      "cell_type": "code",
      "execution_count": 12,
      "metadata": {
        "colab": {
          "base_uri": "https://localhost:8080/"
        },
        "id": "hos83gxS5pXh",
        "outputId": "a77b9fab-06aa-4f28-e129-550ffd95cd9b"
      },
      "outputs": [
        {
          "output_type": "execute_result",
          "data": {
            "text/plain": [
              "0.19449403136685614"
            ]
          },
          "metadata": {},
          "execution_count": 12
        }
      ],
      "source": [
        "n_neutral = sum(1 for each in balanced['sentiments'] if each == 2)\n",
        "N_examples = len(balanced['sentiments'])\n",
        "n_neutral/N_examples"
      ]
    },
    {
      "cell_type": "markdown",
      "metadata": {
        "id": "Y-Ptk4FX5pXi"
      },
      "source": [
        "Finally let's convert our tokens into integer ids which we can pass to the network."
      ]
    },
    {
      "cell_type": "code",
      "execution_count": 13,
      "metadata": {
        "id": "R22agl6I5pXi"
      },
      "outputs": [],
      "source": [
        "token_ids = [[vocab[word] for word in message] for message in balanced['messages']]\n",
        "sentiments = balanced['sentiments']"
      ]
    },
    {
      "cell_type": "markdown",
      "metadata": {
        "id": "otrKhTzp5pXi"
      },
      "source": [
        "## Neural Network\n",
        "Now we have our vocabulary which means we can transform our tokens into ids, which are then passed to our network. So, let's define the network now!\n",
        "\n",
        "Here is a nice diagram showing the network we'd like to build:\n",
        "\n",
        "#### Embed -> RNN -> Dense -> Softmax\n",
        "### Implement the text classifier\n",
        "Before we build text classifier, if you remember from the other network that you built in  \"Sentiment Analysis with an RNN\"  exercise  - which there, the network called \" SentimentRNN\", here we named it \"TextClassifer\" - consists of three main parts: 1) init function `__init__` 2) forward pass `forward`  3) hidden state `init_hidden`.\n",
        "\n",
        "This network is pretty similar to the network you built expect in the  `forward` pass, we use softmax instead of sigmoid. The reason we are not using sigmoid is that the output of NN is not a binary. In our network, sentiment scores have 5 possible outcomes. We are looking for an outcome with the highest probability thus softmax is a better choice."
      ]
    },
    {
      "cell_type": "code",
      "execution_count": 14,
      "metadata": {
        "id": "iSBL54ON5pXi"
      },
      "outputs": [],
      "source": [
        "class TextClassifier(nn.Module):\n",
        "    def __init__(self, vocab_size, embed_size, lstm_size, output_size, lstm_layers=1, dropout=0.1):\n",
        "        \"\"\"\n",
        "        Initialize the model by setting up the layers.\n",
        "\n",
        "        Parameters\n",
        "        ----------\n",
        "            vocab_size : The vocabulary size.\n",
        "            embed_size : The embedding layer size.\n",
        "            lstm_size : The LSTM layer size.\n",
        "            output_size : The output size.\n",
        "            lstm_layers : The number of LSTM layers.\n",
        "            dropout : The dropout probability.\n",
        "        \"\"\"\n",
        "\n",
        "        super().__init__()\n",
        "        self.vocab_size = vocab_size\n",
        "        self.embed_size = embed_size\n",
        "        self.lstm_size = lstm_size\n",
        "        self.output_size = output_size\n",
        "        self.lstm_layers = lstm_layers\n",
        "        self.dropout = dropout\n",
        "\n",
        "        # TODO Implement\n",
        "\n",
        "        # Setup embedding layer\n",
        "        self.embedding = nn.Embedding(vocab_size, embed_size)\n",
        "\n",
        "        # Setup additional layers\n",
        "        self.lstm = nn.LSTM(embed_size, lstm_size, lstm_layers,\n",
        "                            dropout=dropout, batch_first=False)\n",
        "        # dropout layer\n",
        "        self.dropout = nn.Dropout(dropout)\n",
        "\n",
        "        # linear and sigmoid layers\n",
        "        self.fc = nn.Linear(lstm_size, output_size)\n",
        "        self.lsof = nn.LogSoftmax()\n",
        "\n",
        "\n",
        "    def init_hidden(self, batch_size):\n",
        "        \"\"\"\n",
        "        Initializes hidden state\n",
        "\n",
        "        Parameters\n",
        "        ----------\n",
        "            batch_size : The size of batches.\n",
        "\n",
        "        Returns\n",
        "        -------\n",
        "            hidden_state\n",
        "\n",
        "        \"\"\"\n",
        "\n",
        "        # TODO Implement\n",
        "\n",
        "        # Create two new tensors with sizes n_layers x batch_size x hidden_dim,\n",
        "        # initialized to zero, for hidden state and cell state of LSTM\n",
        "\n",
        "        weight = next(self.parameters()).data\n",
        "\n",
        "        hidden = (weight.new(self.lstm_layers, batch_size, self.lstm_size).zero_(),\n",
        "                      weight.new(self.lstm_layers, batch_size, self.lstm_size).zero_())\n",
        "\n",
        "        return hidden\n",
        "\n",
        "\n",
        "    def forward(self, nn_input, hidden_state):\n",
        "        \"\"\"\n",
        "        Perform a forward pass of our model on nn_input.\n",
        "\n",
        "        Parameters\n",
        "        ----------\n",
        "            nn_input : The batch of input to the NN.\n",
        "            hidden_state : The LSTM hidden state.\n",
        "\n",
        "        Returns\n",
        "        -------\n",
        "            logps: log softmax output\n",
        "            hidden_state: The new hidden state.\n",
        "\n",
        "        \"\"\"\n",
        "\n",
        "        # embeddings and lstm_out\n",
        "        nn_input = nn_input.long()\n",
        "        embeds = self.embedding(nn_input)\n",
        "        lstm_out, hidden = self.lstm(embeds, hidden_state)\n",
        "\n",
        "        # stack up lstm outputs\n",
        "        lstm_out = lstm_out[-1,:,:]\n",
        "\n",
        "        # dropout and fully-connected layer\n",
        "        out = self.dropout(lstm_out)\n",
        "        out = self.fc(out)\n",
        "\n",
        "        # Softmax function\n",
        "        logps = self.lsof(out)\n",
        "\n",
        "        # reshape to be batch_size first\n",
        "        batch_size = nn_input.size(1)\n",
        "\n",
        "        # return last sigmoid output and hidden state\n",
        "        return logps, hidden"
      ]
    },
    {
      "cell_type": "markdown",
      "metadata": {
        "id": "XV_5by-85pXi"
      },
      "source": [
        "### View Model"
      ]
    },
    {
      "cell_type": "code",
      "execution_count": 15,
      "metadata": {
        "colab": {
          "base_uri": "https://localhost:8080/"
        },
        "id": "OpDXdmdg5pXi",
        "outputId": "433ce9c8-2b6b-4982-db96-0bd972c94fdb"
      },
      "outputs": [
        {
          "output_type": "stream",
          "name": "stdout",
          "text": [
            "tensor([[-1.3717, -1.8471, -1.6221, -1.4993, -1.7845],\n",
            "        [-1.4010, -1.8036, -1.6035, -1.4711, -1.8447],\n",
            "        [-1.4148, -1.7876, -1.6052, -1.4671, -1.8438],\n",
            "        [-1.3485, -1.8618, -1.6062, -1.5103, -1.8109]],\n",
            "       grad_fn=<LogSoftmaxBackward0>)\n"
          ]
        },
        {
          "output_type": "stream",
          "name": "stderr",
          "text": [
            "/usr/local/lib/python3.10/dist-packages/torch/nn/modules/module.py:1736: UserWarning: Implicit dimension choice for log_softmax has been deprecated. Change the call to include dim=X as an argument.\n",
            "  return self._call_impl(*args, **kwargs)\n"
          ]
        }
      ],
      "source": [
        "model = TextClassifier(len(vocab), 10, 6, 5, dropout=0.1, lstm_layers=2)\n",
        "model.embedding.weight.data.uniform_(-1, 1)\n",
        "input = torch.randint(0, 1000, (5, 4), dtype=torch.int64)\n",
        "hidden = model.init_hidden(4)\n",
        "\n",
        "logps, _ = model.forward(input, hidden)\n",
        "print(logps)"
      ]
    },
    {
      "cell_type": "markdown",
      "metadata": {
        "id": "VPwyMHy-5pXi"
      },
      "source": [
        "## Training\n",
        "### DataLoaders and Batching\n",
        "Now we should build a generator that we can use to loop through our data. It'll be more efficient if we can pass our sequences in as batches. Our input tensors should look like `(sequence_length, batch_size)`. So if our sequences are 40 tokens long and we pass in 25 sequences, then we'd have an input size of `(40, 25)`.\n",
        "\n",
        "If we set our sequence length to 40, what do we do with messages that are more or less than 40 tokens? For messages with fewer than 40 tokens, we will pad the empty spots with zeros. We should be sure to **left** pad so that the RNN starts from nothing before going through the data. If the message has 20 tokens, then the first 20 spots of our 40 long sequence will be 0. If a message has more than 40 tokens, we'll just keep the first 40 tokens."
      ]
    },
    {
      "cell_type": "code",
      "execution_count": 16,
      "metadata": {
        "id": "sE01Np0J5pXi"
      },
      "outputs": [],
      "source": [
        "def dataloader(messages, labels, sequence_length=30, batch_size=32, shuffle=False):\n",
        "    \"\"\"\n",
        "    Build a dataloader.\n",
        "    \"\"\"\n",
        "    if shuffle:\n",
        "        indices = list(range(len(messages)))\n",
        "        random.shuffle(indices)\n",
        "        messages = [messages[idx] for idx in indices]\n",
        "        labels = [labels[idx] for idx in indices]\n",
        "\n",
        "    total_sequences = len(messages)\n",
        "\n",
        "    for ii in range(0, total_sequences, batch_size):\n",
        "        batch_messages = messages[ii: ii+batch_size]\n",
        "\n",
        "        # First initialize a tensor of all zeros\n",
        "        batch = torch.zeros((sequence_length, len(batch_messages)), dtype=torch.int64)\n",
        "        for batch_num, tokens in enumerate(batch_messages):\n",
        "            token_tensor = torch.tensor(tokens)\n",
        "            # Left pad!\n",
        "            start_idx = max(sequence_length - len(token_tensor), 0)\n",
        "            batch[start_idx:, batch_num] = token_tensor[:sequence_length]\n",
        "\n",
        "        label_tensor = torch.tensor(labels[ii: ii+len(batch_messages)])\n",
        "\n",
        "        yield batch, label_tensor"
      ]
    },
    {
      "cell_type": "markdown",
      "metadata": {
        "id": "JbYcQcAP5pXi"
      },
      "source": [
        "### Training and  Validation\n",
        "With our data in nice shape, we'll split it into training and validation sets."
      ]
    },
    {
      "cell_type": "code",
      "execution_count": 17,
      "metadata": {
        "id": "jM3ct8yY5pXi"
      },
      "outputs": [],
      "source": [
        "\"\"\"\n",
        "Split data into training and validation datasets. Use an appropriate split size.\n",
        "The features are the `token_ids` and the labels are the `sentiments`.\n",
        "\"\"\"\n",
        "split_frac = 0.7\n",
        "split_idx = int(len(token_ids)*split_frac)\n",
        "\n",
        "train_features = token_ids[:split_idx]\n",
        "valid_features = token_ids[split_idx:]\n",
        "train_labels = sentiments[:split_idx]\n",
        "valid_labels = sentiments[split_idx:]"
      ]
    },
    {
      "cell_type": "code",
      "execution_count": 18,
      "metadata": {
        "id": "wh9LvQ5n5pXi"
      },
      "outputs": [],
      "source": [
        "text_batch, labels = next(iter(dataloader(train_features, train_labels, sequence_length=20, batch_size=64)))\n",
        "model = TextClassifier(len(vocab)+1, 200, 128, 5, dropout=0.)\n",
        "hidden = model.init_hidden(64)\n",
        "logps, hidden = model.forward(text_batch, hidden)"
      ]
    },
    {
      "cell_type": "markdown",
      "metadata": {
        "id": "PCXdGvgO5pXi"
      },
      "source": [
        "### Training\n",
        "It's time to train the neural network!"
      ]
    },
    {
      "cell_type": "code",
      "execution_count": 19,
      "metadata": {
        "colab": {
          "base_uri": "https://localhost:8080/"
        },
        "id": "zrbbmM5i5pXj",
        "outputId": "c511b351-d2bb-4e61-a756-2194edca1d58"
      },
      "outputs": [
        {
          "output_type": "execute_result",
          "data": {
            "text/plain": [
              "TextClassifier(\n",
              "  (embedding): Embedding(121774, 1024)\n",
              "  (lstm): LSTM(1024, 512, num_layers=2, dropout=0.2)\n",
              "  (dropout): Dropout(p=0.2, inplace=False)\n",
              "  (fc): Linear(in_features=512, out_features=5, bias=True)\n",
              "  (lsof): LogSoftmax(dim=None)\n",
              ")"
            ]
          },
          "metadata": {},
          "execution_count": 19
        }
      ],
      "source": [
        "device = torch.device(\"cuda\" if torch.cuda.is_available() else \"cpu\")\n",
        "\n",
        "model = TextClassifier(len(vocab)+1, 1024, 512, 5, lstm_layers=2, dropout=0.2)\n",
        "model.embedding.weight.data.uniform_(-1, 1)\n",
        "model.to(device)"
      ]
    },
    {
      "cell_type": "code",
      "execution_count": 20,
      "metadata": {
        "colab": {
          "base_uri": "https://localhost:8080/"
        },
        "id": "d-9yzcw45pXj",
        "outputId": "90100560-cce3-4887-c4ef-6360097d8613"
      },
      "outputs": [
        {
          "output_type": "stream",
          "name": "stdout",
          "text": [
            "Starting epoch 1\n"
          ]
        },
        {
          "output_type": "stream",
          "name": "stderr",
          "text": [
            "/usr/local/lib/python3.10/dist-packages/torch/nn/modules/module.py:1736: UserWarning: Implicit dimension choice for log_softmax has been deprecated. Change the call to include dim=X as an argument.\n",
            "  return self._call_impl(*args, **kwargs)\n"
          ]
        },
        {
          "output_type": "stream",
          "name": "stdout",
          "text": [
            "Epoch: 1/3... Step: 100... Loss: 0.951001... Val Loss: 0.963489\n",
            "Epoch: 1/3... Step: 200... Loss: 0.818886... Val Loss: 0.849296\n",
            "Epoch: 1/3... Step: 300... Loss: 0.806879... Val Loss: 0.787824\n",
            "Epoch: 1/3... Step: 400... Loss: 0.775082... Val Loss: 0.756224\n",
            "Epoch: 1/3... Step: 500... Loss: 0.675995... Val Loss: 0.719336\n",
            "Epoch: 1/3... Step: 600... Loss: 0.767131... Val Loss: 0.706474\n",
            "Epoch: 1/3... Step: 700... Loss: 0.673217... Val Loss: 0.694045\n",
            "Starting epoch 2\n",
            "Epoch: 2/3... Step: 100... Loss: 0.624816... Val Loss: 0.694388\n",
            "Epoch: 2/3... Step: 200... Loss: 0.634308... Val Loss: 0.686874\n",
            "Epoch: 2/3... Step: 300... Loss: 0.623982... Val Loss: 0.674463\n",
            "Epoch: 2/3... Step: 400... Loss: 0.615637... Val Loss: 0.669838\n",
            "Epoch: 2/3... Step: 500... Loss: 0.656025... Val Loss: 0.665359\n",
            "Epoch: 2/3... Step: 600... Loss: 0.633829... Val Loss: 0.668322\n",
            "Epoch: 2/3... Step: 700... Loss: 0.615216... Val Loss: 0.654281\n",
            "Starting epoch 3\n",
            "Epoch: 3/3... Step: 100... Loss: 0.542282... Val Loss: 0.689101\n",
            "Epoch: 3/3... Step: 200... Loss: 0.545486... Val Loss: 0.691548\n",
            "Epoch: 3/3... Step: 300... Loss: 0.537485... Val Loss: 0.680368\n",
            "Epoch: 3/3... Step: 400... Loss: 0.603868... Val Loss: 0.679999\n",
            "Epoch: 3/3... Step: 500... Loss: 0.522218... Val Loss: 0.675057\n",
            "Epoch: 3/3... Step: 600... Loss: 0.542965... Val Loss: 0.677021\n",
            "Epoch: 3/3... Step: 700... Loss: 0.524136... Val Loss: 0.675836\n"
          ]
        }
      ],
      "source": [
        "\"\"\"\n",
        "Train your model with dropout. Make sure to clip your gradients.\n",
        "Print the training loss, validation loss, and validation accuracy for every 100 steps.\n",
        "\"\"\"\n",
        "import numpy as np\n",
        "epochs = 3\n",
        "batch_size = 1000\n",
        "learning_rate = 0.001\n",
        "clip=5\n",
        "print_every = 100\n",
        "criterion = nn.NLLLoss()\n",
        "optimizer = optim.Adam(model.parameters(), lr=learning_rate)\n",
        "model.train()\n",
        "\n",
        "for epoch in range(epochs):\n",
        "    print('Starting epoch {}'.format(epoch + 1))\n",
        "\n",
        "    steps = 0\n",
        "    for text_batch, labels in dataloader(\n",
        "            train_features, train_labels, batch_size=batch_size, sequence_length=20, shuffle=True):\n",
        "        steps += 1\n",
        "        hidden = model.init_hidden(labels.shape[0])\n",
        "\n",
        "        # Set Device\n",
        "        text_batch, labels = text_batch.to(device), labels.to(device)\n",
        "        for each in hidden:\n",
        "            each.to(device)\n",
        "\n",
        "        # TODO Implement: Train Model\n",
        "\n",
        "        model.zero_grad()\n",
        "\n",
        "        output, hidden = model(text_batch, hidden)\n",
        "\n",
        "        # calculate the loss and perform backprop\n",
        "        loss = criterion(output.squeeze(), labels)\n",
        "        loss.backward()\n",
        "\n",
        "        # `clip_grad_norm` helps prevent the exploding gradient problem in RNNs / LSTMs.\n",
        "        nn.utils.clip_grad_norm_(model.parameters(), clip)\n",
        "        optimizer.step()\n",
        "\n",
        "        if steps % print_every == 0:\n",
        "            model.eval()\n",
        "\n",
        "            val_losses = []\n",
        "            for inputs, labels in dataloader(valid_features, valid_labels, batch_size=batch_size):\n",
        "\n",
        "                # Creating new variables for the hidden state, otherwise\n",
        "                # we'd backprop through the entire training history\n",
        "                #val_h = tuple([each.data for each in val_h])\n",
        "\n",
        "                inputs, labels = inputs.to(device), labels.to(device)\n",
        "\n",
        "                val_h = model.init_hidden(labels.shape[0])\n",
        "                for each in val_h:\n",
        "                    each.to(device)\n",
        "\n",
        "                output, val_h = model(inputs, val_h)\n",
        "                val_loss = criterion(output.squeeze(), labels)\n",
        "\n",
        "                val_losses.append(val_loss.item())\n",
        "\n",
        "            # TODO Implement: Print metrics\n",
        "\n",
        "            model.train()\n",
        "            print(\"Epoch: {}/{}...\".format(epoch+1, epochs),\n",
        "                  \"Step: {}...\".format(steps),\n",
        "                  \"Loss: {:.6f}...\".format(loss.item()),\n",
        "                  \"Val Loss: {:.6f}\".format(np.mean(val_losses)))"
      ]
    },
    {
      "cell_type": "markdown",
      "metadata": {
        "id": "79OKW1VA5pXj"
      },
      "source": [
        "## Making Predictions\n",
        "### Prediction"
      ]
    },
    {
      "cell_type": "code",
      "execution_count": 24,
      "metadata": {
        "id": "fCGhXdMj5pXj"
      },
      "outputs": [],
      "source": [
        "def predict(text, model, vocab):\n",
        "    \"\"\"\n",
        "    Make a prediction on a single sentence.\n",
        "\n",
        "    Parameters\n",
        "    ----------\n",
        "        text : The string to make a prediction on.\n",
        "        model : The model to use for making the prediction.\n",
        "        vocab : Dictionary for word to word ids. The key is the word and the value is the word id.\n",
        "\n",
        "    Returns\n",
        "    -------\n",
        "        pred : Prediction vector\n",
        "    \"\"\"\n",
        "    tokens = preprocess(text)\n",
        "\n",
        "    # Filter non-vocab words\n",
        "    tokens = [token for token in tokens if token in vocab]\n",
        "    # Convert words to ids\n",
        "    tokens =  [vocab[token] for token in tokens]\n",
        "\n",
        "    # Adding a batch dimension\n",
        "    text_input = torch.from_numpy(np.asarray(torch.FloatTensor(tokens).view(-1, 1)))\n",
        "    # Get the NN output\n",
        "    with torch.no_grad():\n",
        "      hidden = model.init_hidden(1)\n",
        "      logps, _ = model.forward(text_input, hidden)\n",
        "    # Take the exponent of the NN output to get a range of 0 to 1 for each label.\n",
        "    pred = torch.exp(logps)\n",
        "\n",
        "    return pred"
      ]
    },
    {
      "cell_type": "code",
      "execution_count": 26,
      "metadata": {
        "colab": {
          "base_uri": "https://localhost:8080/"
        },
        "id": "5U7sKKfg5pXj",
        "outputId": "a60c4bdc-79e0-437e-9b35-4c2ac2790beb"
      },
      "outputs": [
        {
          "output_type": "stream",
          "name": "stderr",
          "text": [
            "/usr/local/lib/python3.10/dist-packages/torch/nn/modules/module.py:1736: UserWarning: Implicit dimension choice for log_softmax has been deprecated. Change the call to include dim=X as an argument.\n",
            "  return self._call_impl(*args, **kwargs)\n"
          ]
        },
        {
          "output_type": "execute_result",
          "data": {
            "text/plain": [
              "tensor([[4.9684e-04, 3.8952e-02, 1.4742e-02, 7.2591e-01, 2.1990e-01]])"
            ]
          },
          "metadata": {},
          "execution_count": 26
        }
      ],
      "source": [
        "text = \"Google is working on self driving cars, I'm bullish on $goog\"\n",
        "model.eval()\n",
        "model.to(\"cpu\")\n",
        "pred = predict(text, model, vocab)\n",
        "pred"
      ]
    },
    {
      "cell_type": "code",
      "source": [
        "pred = torch.argmax(pred)\n",
        "pred"
      ],
      "metadata": {
        "colab": {
          "base_uri": "https://localhost:8080/"
        },
        "id": "nM_XNrs4dMeA",
        "outputId": "121c1e45-5e1e-436c-f194-ff92ccca9528"
      },
      "execution_count": 27,
      "outputs": [
        {
          "output_type": "execute_result",
          "data": {
            "text/plain": [
              "tensor(3)"
            ]
          },
          "metadata": {},
          "execution_count": 27
        }
      ]
    },
    {
      "cell_type": "code",
      "source": [],
      "metadata": {
        "id": "ZfsfzkqqdjAi"
      },
      "execution_count": null,
      "outputs": []
    }
  ],
  "metadata": {
    "kernelspec": {
      "display_name": "Python 3",
      "name": "python3"
    },
    "language_info": {
      "codemirror_mode": {
        "name": "ipython",
        "version": 3
      },
      "file_extension": ".py",
      "mimetype": "text/x-python",
      "name": "python",
      "nbconvert_exporter": "python",
      "pygments_lexer": "ipython3",
      "version": "3.6.3"
    },
    "colab": {
      "provenance": [],
      "gpuType": "T4"
    },
    "accelerator": "GPU"
  },
  "nbformat": 4,
  "nbformat_minor": 0
}